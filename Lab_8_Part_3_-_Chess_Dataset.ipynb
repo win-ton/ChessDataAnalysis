{
 "cells": [
  {
   "cell_type": "markdown",
   "metadata": {},
   "source": [
    "# Project 3: Chess Dataset Analysis"
   ]
  },
  {
   "cell_type": "markdown",
   "metadata": {},
   "source": [
    "# Data Cleansing"
   ]
  },
  {
   "cell_type": "code",
   "execution_count": 1,
   "metadata": {},
   "outputs": [],
   "source": [
    "import numpy as np\n",
    "import pandas as pd\n",
    "\n",
    "import matplotlib.pyplot as plt\n",
    "import seaborn as sns\n",
    "\n",
    "from sklearn.linear_model import LogisticRegression\n",
    "from sklearn.model_selection import train_test_split\n",
    "from sklearn.linear_model import LinearRegression\n",
    "from sklearn.cluster import KMeans\n",
    "from sklearn.ensemble import RandomForestRegressor\n",
    "from sklearn.metrics import mean_absolute_error"
   ]
  },
  {
   "cell_type": "code",
   "execution_count": 2,
   "metadata": {},
   "outputs": [
    {
     "data": {
      "text/html": [
       "<div>\n",
       "<style scoped>\n",
       "    .dataframe tbody tr th:only-of-type {\n",
       "        vertical-align: middle;\n",
       "    }\n",
       "\n",
       "    .dataframe tbody tr th {\n",
       "        vertical-align: top;\n",
       "    }\n",
       "\n",
       "    .dataframe thead th {\n",
       "        text-align: right;\n",
       "    }\n",
       "</style>\n",
       "<table border=\"1\" class=\"dataframe\">\n",
       "  <thead>\n",
       "    <tr style=\"text-align: right;\">\n",
       "      <th></th>\n",
       "      <th>rated</th>\n",
       "      <th>turns</th>\n",
       "      <th>victory_status</th>\n",
       "      <th>winner</th>\n",
       "      <th>white_rating</th>\n",
       "      <th>black_rating</th>\n",
       "    </tr>\n",
       "  </thead>\n",
       "  <tbody>\n",
       "    <tr>\n",
       "      <th>0</th>\n",
       "      <td>False</td>\n",
       "      <td>13</td>\n",
       "      <td>outoftime</td>\n",
       "      <td>white</td>\n",
       "      <td>1500</td>\n",
       "      <td>1191</td>\n",
       "    </tr>\n",
       "    <tr>\n",
       "      <th>1</th>\n",
       "      <td>True</td>\n",
       "      <td>16</td>\n",
       "      <td>resign</td>\n",
       "      <td>black</td>\n",
       "      <td>1322</td>\n",
       "      <td>1261</td>\n",
       "    </tr>\n",
       "    <tr>\n",
       "      <th>2</th>\n",
       "      <td>True</td>\n",
       "      <td>61</td>\n",
       "      <td>mate</td>\n",
       "      <td>white</td>\n",
       "      <td>1496</td>\n",
       "      <td>1500</td>\n",
       "    </tr>\n",
       "    <tr>\n",
       "      <th>3</th>\n",
       "      <td>True</td>\n",
       "      <td>61</td>\n",
       "      <td>mate</td>\n",
       "      <td>white</td>\n",
       "      <td>1439</td>\n",
       "      <td>1454</td>\n",
       "    </tr>\n",
       "    <tr>\n",
       "      <th>4</th>\n",
       "      <td>True</td>\n",
       "      <td>95</td>\n",
       "      <td>mate</td>\n",
       "      <td>white</td>\n",
       "      <td>1523</td>\n",
       "      <td>1469</td>\n",
       "    </tr>\n",
       "  </tbody>\n",
       "</table>\n",
       "</div>"
      ],
      "text/plain": [
       "   rated  turns victory_status winner  white_rating  black_rating\n",
       "0  False     13      outoftime  white          1500          1191\n",
       "1   True     16         resign  black          1322          1261\n",
       "2   True     61           mate  white          1496          1500\n",
       "3   True     61           mate  white          1439          1454\n",
       "4   True     95           mate  white          1523          1469"
      ]
     },
     "execution_count": 2,
     "metadata": {},
     "output_type": "execute_result"
    }
   ],
   "source": [
    "chess_df = pd.read_csv(\"games.csv\")\n",
    "chess_df.pop('created_at')\n",
    "chess_df.pop('last_move_at')\n",
    "chess_df.pop('id')\n",
    "chess_df.pop('increment_code')\n",
    "chess_df.pop('white_id')\n",
    "chess_df.pop('black_id')\n",
    "chess_df.pop('moves')\n",
    "chess_df.pop('opening_eco')\n",
    "chess_df.pop('opening_name')\n",
    "chess_df.pop('opening_ply')\n",
    "chess_df.head()"
   ]
  },
  {
   "cell_type": "markdown",
   "metadata": {},
   "source": [
    "# Part 1"
   ]
  },
  {
   "cell_type": "code",
   "execution_count": 3,
   "metadata": {},
   "outputs": [
    {
     "data": {
      "text/plain": [
       "<AxesSubplot:>"
      ]
     },
     "execution_count": 3,
     "metadata": {},
     "output_type": "execute_result"
    },
    {
     "data": {
      "image/png": "[encoded data removed]",
      "text/plain": [
       "<Figure size 432x288 with 1 Axes>"
      ]
     },
     "metadata": {
      "needs_background": "light"
     },
     "output_type": "display_data"
    }
   ],
   "source": [
    "df_rated, df_unrated = [x for _, x in chess_df.groupby(chess_df['rated'] == False)]\n",
    "df_unrated['Rating Difference'] = df_unrated.apply(lambda row: abs(row['white_rating'] - row['black_rating']), axis = 1)\n",
    "df_unrated['Higher Rated Player'] = np.where(df_unrated['white_rating'] > df_unrated['black_rating'], True, False)\n",
    "df_unrated['Higher Rated Player'] = df_unrated['Higher Rated Player'].replace(True, 'white', regex=True)\n",
    "df_unrated['Higher Rated Player'] = df_unrated['Higher Rated Player'].replace(False, 'black', regex=True)\n",
    "df_unrated['Higher Rated Player Won'] = np.where(df_unrated['winner'] == df_unrated['Higher Rated Player'], True, False)\n",
    "\n",
    "df_unrated.pop('rated')\n",
    "#We removed all draws here:\n",
    "draw_rows = df_unrated[df_unrated['winner'] == 'draw'].index\n",
    "df_unrated.drop(draw_rows, inplace = True)\n",
    "df_unrated.drop(df_unrated[df_unrated['Rating Difference'] == 0].index, inplace = True)\n",
    "dfleft, df1 = [x for _, x in df_unrated.groupby(df_unrated['Rating Difference'] < 401)]\n",
    "#Here df1 holds all games where the rating difference is sub 400\n",
    "dfleft, df2 = [x for _, x in dfleft.groupby(dfleft['Rating Difference'] < 802)]\n",
    "#Here df2 holds all games where the rating difference is greater than 401 and less than 802\n",
    "dfleft, df3 = [x for _, x in dfleft.groupby(dfleft['Rating Difference'] < 1203)]\n",
    "#Here df3 holds all games where the rating difference is greater than 802 and less than 1203\n",
    "df4 = dfleft\n",
    "#Here df4 holds all games where the rating difference is greater than 1203 which is the max we are going to partion from\n",
    "df4_temp = (df4['Higher Rated Player Won'].value_counts())\n",
    "df4_temp.plot.bar(y = df4_temp[1])\n"
   ]
  },
  {
   "cell_type": "code",
   "execution_count": 4,
   "metadata": {},
   "outputs": [
    {
     "data": {
      "text/plain": [
       "<AxesSubplot:>"
      ]
     },
     "execution_count": 4,
     "metadata": {},
     "output_type": "execute_result"
    },
    {
     "data": {
      "image/png": "[encoded data removed]",
      "text/plain": [
       "<Figure size 432x288 with 1 Axes>"
      ]
     },
     "metadata": {
      "needs_background": "light"
     },
     "output_type": "display_data"
    }
   ],
   "source": [
    "df3_temp = (df3['Higher Rated Player Won'].value_counts())\n",
    "df3_temp.plot.bar(y = df3_temp[1])"
   ]
  },
  {
   "cell_type": "code",
   "execution_count": 5,
   "metadata": {},
   "outputs": [
    {
     "data": {
      "text/plain": [
       "<AxesSubplot:>"
      ]
     },
     "execution_count": 5,
     "metadata": {},
     "output_type": "execute_result"
    },
    {
     "data": {
      "image/png": "[encoded data removed]",
      "text/plain": [
       "<Figure size 432x288 with 1 Axes>"
      ]
     },
     "metadata": {
      "needs_background": "light"
     },
     "output_type": "display_data"
    }
   ],
   "source": [
    "df2_temp = (df2['Higher Rated Player Won'].value_counts())\n",
    "df2_temp.plot.bar(y = df2_temp[1])"
   ]
  },
  {
   "cell_type": "code",
   "execution_count": 6,
   "metadata": {},
   "outputs": [
    {
     "data": {
      "text/plain": [
       "<AxesSubplot:>"
      ]
     },
     "execution_count": 6,
     "metadata": {},
     "output_type": "execute_result"
    },
    {
     "data": {
      "image/png": "[encoded data removed]",
      "text/plain": [
       "<Figure size 432x288 with 1 Axes>"
      ]
     },
     "metadata": {
      "needs_background": "light"
     },
     "output_type": "display_data"
    }
   ],
   "source": [
    "df1_temp = (df1['Higher Rated Player Won'].value_counts())\n",
    "df1_temp.plot.bar(y = df1_temp[1])"
   ]
  },
  {
   "cell_type": "markdown",
   "metadata": {},
   "source": [
    "# Part 2"
   ]
  },
  {
   "cell_type": "code",
   "execution_count": 7,
   "metadata": {},
   "outputs": [],
   "source": [
    "df_rated['Rating Avg'] = df_rated.apply(lambda row: abs((row['white_rating'] + row['black_rating'])/2), axis = 1)\n",
    "dftest = df_rated[['turns', 'Rating Avg']]"
   ]
  },
  {
   "cell_type": "code",
   "execution_count": 8,
   "metadata": {},
   "outputs": [
    {
     "name": "stdout",
     "output_type": "stream",
     "text": [
      "23.421687759771533\n"
     ]
    }
   ],
   "source": [
    "\n",
    "dfsplit = dftest.sample(n=200)\n",
    "#Taking 200 random data points\n",
    "\n",
    "X_train = df_rated[[\"Rating Avg\"]]\n",
    "X_test = dfsplit[[\"Rating Avg\"]]\n",
    "y_train = df_rated[\"turns\"]\n",
    "y_test = dfsplit[\"turns\"]\n",
    "\n",
    "\n",
    "forest_model = RandomForestRegressor(random_state=1)\n",
    "forest_model.fit(X_train, y_train)\n",
    "melb_preds = forest_model.predict(X_test)\n",
    "print(mean_absolute_error(y_test, melb_preds))"
   ]
  },
  {
   "cell_type": "code",
   "execution_count": 9,
   "metadata": {},
   "outputs": [
    {
     "name": "stdout",
     "output_type": "stream",
     "text": [
      "[89.655]\n"
     ]
    }
   ],
   "source": [
    "print(forest_model.predict([[2200.0]]))"
   ]
  },
  {
   "cell_type": "markdown",
   "metadata": {},
   "source": [
    "# Part 3"
   ]
  },
  {
   "cell_type": "code",
   "execution_count": 10,
   "metadata": {},
   "outputs": [
    {
     "data": {
      "image/png": "[encoded data removed]",
      "text/plain": [
       "<Figure size 432x288 with 1 Axes>"
      ]
     },
     "metadata": {
      "needs_background": "light"
     },
     "output_type": "display_data"
    }
   ],
   "source": [
    "df1_test = (df_rated['winner'].value_counts())\n",
    "df1_test.plot.bar(y = df1_test[1])\n",
    "dfr1, dfr2 = [x for _, x in df_rated.groupby(df_rated['Rating Avg'] < 1600)]\n",
    "#dfr1 is games above 1600, dfr2 is games below 1600"
   ]
  },
  {
   "cell_type": "code",
   "execution_count": 11,
   "metadata": {},
   "outputs": [
    {
     "data": {
      "text/plain": [
       "<AxesSubplot:>"
      ]
     },
     "execution_count": 11,
     "metadata": {},
     "output_type": "execute_result"
    },
    {
     "data": {
      "image/png": "[encoded data removed]",
      "text/plain": [
       "<Figure size 432x288 with 1 Axes>"
      ]
     },
     "metadata": {
      "needs_background": "light"
     },
     "output_type": "display_data"
    }
   ],
   "source": [
    "dfr1_temp = (dfr1['winner'].value_counts())\n",
    "dfr1_temp.plot.bar(y = dfr1_temp[1])"
   ]
  },
  {
   "cell_type": "code",
   "execution_count": 12,
   "metadata": {},
   "outputs": [
    {
     "data": {
      "text/plain": [
       "<AxesSubplot:>"
      ]
     },
     "execution_count": 12,
     "metadata": {},
     "output_type": "execute_result"
    },
    {
     "data": {
      "image/png": "[encoded data removed]",
      "text/plain": [
       "<Figure size 432x288 with 1 Axes>"
      ]
     },
     "metadata": {
      "needs_background": "light"
     },
     "output_type": "display_data"
    }
   ],
   "source": [
    "dfr2_temp = (dfr2['winner'].value_counts())\n",
    "dfr2_temp.plot.bar(y = dfr2_temp[1])"
   ]
  },
  {
   "cell_type": "markdown",
   "metadata": {},
   "source": [
    "# Part 4"
   ]
  },
  {
   "cell_type": "code",
   "execution_count": 13,
   "metadata": {},
   "outputs": [
    {
     "data": {
      "image/png": "[encoded data removed]",
      "text/plain": [
       "<Figure size 432x288 with 1 Axes>"
      ]
     },
     "metadata": {
      "needs_background": "light"
     },
     "output_type": "display_data"
    }
   ],
   "source": [
    "df1_test = (df_rated['victory_status'].value_counts())\n",
    "df1_test.plot.bar(y = df1_test[1])\n",
    "dft1, dft2 = [x for _, x in df_rated.groupby(df_rated['Rating Avg'] < 1600)]"
   ]
  },
  {
   "cell_type": "code",
   "execution_count": 14,
   "metadata": {},
   "outputs": [
    {
     "data": {
      "text/plain": [
       "<AxesSubplot:>"
      ]
     },
     "execution_count": 14,
     "metadata": {},
     "output_type": "execute_result"
    },
    {
     "data": {
      "image/png": "[encoded data removed]",
      "text/plain": [
       "<Figure size 432x288 with 1 Axes>"
      ]
     },
     "metadata": {
      "needs_background": "light"
     },
     "output_type": "display_data"
    }
   ],
   "source": [
    "dfr1_temp = (dfr1['victory_status'].value_counts())\n",
    "dfr1_temp.plot.bar(y = dfr1_temp[1])"
   ]
  },
  {
   "cell_type": "code",
   "execution_count": 15,
   "metadata": {},
   "outputs": [
    {
     "data": {
      "text/plain": [
       "<AxesSubplot:>"
      ]
     },
     "execution_count": 15,
     "metadata": {},
     "output_type": "execute_result"
    },
    {
     "data": {
      "image/png": "[encoded data removed]",
      "text/plain": [
       "<Figure size 432x288 with 1 Axes>"
      ]
     },
     "metadata": {
      "needs_background": "light"
     },
     "output_type": "display_data"
    }
   ],
   "source": [
    "dfr2_temp = (dfr2['victory_status'].value_counts())\n",
    "dfr2_temp.plot.bar(y = dfr2_temp[1])"
   ]
  },
  {
   "cell_type": "markdown",
   "metadata": {},
   "source": [
    "This concludes the lab."
   ]
  }
 ],
 "metadata": {
  "kernelspec": {
   "display_name": "Python 3",
   "language": "python",
   "name": "python3"
  },
  "language_info": {
   "codemirror_mode": {
    "name": "ipython",
    "version": 3
   },
   "file_extension": ".py",
   "mimetype": "text/x-python",
   "name": "python",
   "nbconvert_exporter": "python",
   "pygments_lexer": "ipython3",
   "version": "3.8.5"
  }
 },
 "nbformat": 4,
 "nbformat_minor": 4
}
